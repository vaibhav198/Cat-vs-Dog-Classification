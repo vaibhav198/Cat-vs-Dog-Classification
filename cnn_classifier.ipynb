{
 "cells": [
  {
   "cell_type": "code",
   "execution_count": 28,
   "metadata": {},
   "outputs": [],
   "source": [
    "import os\n",
    "# Initialise our neural network model as a sequential network\n",
    "from keras.models import Sequential\n",
    "# Convolution operation\n",
    "from keras.layers import Conv2D \n",
    " # Maxpooling function\n",
    "from keras.layers import MaxPooling2D\n",
    "# Converting 2D arrays into a 1D linear vector.\n",
    "from keras.layers import Flatten \n",
    " # Perform the full connection of the neural network\n",
    "from keras.layers import Dense\n",
    "from keras.preprocessing.image import ImageDataGenerator\n",
    "from IPython.display import display\n",
    "from PIL import Image\n",
    "import cv2\n",
    "import numpy as np\n",
    "from sklearn.metrics import accuracy_score\n",
    "from skimage import io, transform"
   ]
  },
  {
   "cell_type": "code",
   "execution_count": 17,
   "metadata": {},
   "outputs": [],
   "source": [
    "#CNN model\n",
    "def cnn_classifier():\n",
    "    model = Sequential()\n",
    "    \n",
    "    model.add(Conv2D(32, (3,3), input_shape = (50, 50, 3), padding='same', activation = 'relu'))\n",
    "    model.add(MaxPooling2D(pool_size=(2, 2), padding='same'))\n",
    "    \n",
    "    model.add(Conv2D(64, (3,3), padding='same', activation = 'relu'))\n",
    "    model.add(MaxPooling2D(pool_size=(2, 2), padding='same'))\n",
    "    \n",
    "    model.add(Flatten())\n",
    "    model.add(Dense(500, activation = 'relu'))\n",
    "    model.add(Dense(2, activation = 'softmax'))\n",
    "    model.compile(optimizer = 'adam', loss = 'binary_crossentropy', metrics = ['accuracy'])\n",
    "    print(model.summary())\n",
    "    return model"
   ]
  },
  {
   "cell_type": "code",
   "execution_count": 18,
   "metadata": {},
   "outputs": [],
   "source": [
    "#Reshaping all images into same size\n",
    "def reshaped_image(image):\n",
    "    return transform.resize(image,(50, 50, 3)) # (cols (width), rows (height))\n"
   ]
  },
  {
   "cell_type": "code",
   "execution_count": 19,
   "metadata": {},
   "outputs": [],
   "source": [
    "#function to load the training data\n",
    "def load_images_from_folder():\n",
    "    Images = os.listdir(\"./dataset/train1/\")\n",
    "    train_images = []\n",
    "    train_labels = []\n",
    "    for image in Images:\n",
    "            l = [0,0] # [cat,dog]\n",
    "            if image.find('cat') != -1:\n",
    "                path = os.path.join(\"./dataset/train1/\", image)\n",
    "                img = cv2.imread(path)\n",
    "                train_images.append(reshaped_image(img))\n",
    "                l = [1,0] \n",
    "                train_labels.append(l)\n",
    "            if image.find('dog') != -1:\n",
    "                path = os.path.join(\"./dataset/train1/\", image)\n",
    "                img = cv2.imread(path)\n",
    "                train_images.append(reshaped_image(img))\n",
    "                l = [0,1] \n",
    "                train_labels.append(l)\n",
    "    return np.array(train_images), np.array(train_labels)"
   ]
  },
  {
   "cell_type": "code",
   "execution_count": 20,
   "metadata": {},
   "outputs": [],
   "source": [
    "def train_test_split(train_data, train_labels, fraction):\n",
    "    index = int(len(train_data)*fraction)\n",
    "    return train_data[:index], train_labels[:index], train_data[index:], train_labels[index:]\n"
   ]
  },
  {
   "cell_type": "code",
   "execution_count": 21,
   "metadata": {},
   "outputs": [
    {
     "name": "stderr",
     "output_type": "stream",
     "text": [
      "/home/vs/anaconda3/envs/ml/lib/python3.6/site-packages/skimage/transform/_warps.py:105: UserWarning: The default mode, 'constant', will be changed to 'reflect' in skimage 0.15.\n",
      "  warn(\"The default mode, 'constant', will be changed to 'reflect' in \"\n",
      "/home/vs/anaconda3/envs/ml/lib/python3.6/site-packages/skimage/transform/_warps.py:110: UserWarning: Anti-aliasing will be enabled by default in skimage 0.15 to avoid aliasing artifacts when down-sampling images.\n",
      "  warn(\"Anti-aliasing will be enabled by default in skimage 0.15 to \"\n"
     ]
    }
   ],
   "source": [
    "train_data, train_labels = load_images_from_folder()\n",
    "fraction = 0.73"
   ]
  },
  {
   "cell_type": "code",
   "execution_count": 22,
   "metadata": {},
   "outputs": [
    {
     "name": "stdout",
     "output_type": "stream",
     "text": [
      "Train data size:  2920\n",
      "Test data size:  1080\n"
     ]
    }
   ],
   "source": [
    "train_data, train_labels, test_data, test_labels = train_test_split(train_data, train_labels, fraction)\n",
    "print (\"Train data size: \", len(train_data))\n",
    "print (\"Test data size: \", len(test_data))"
   ]
  },
  {
   "cell_type": "code",
   "execution_count": 23,
   "metadata": {},
   "outputs": [
    {
     "name": "stdout",
     "output_type": "stream",
     "text": [
      "_________________________________________________________________\n",
      "Layer (type)                 Output Shape              Param #   \n",
      "=================================================================\n",
      "conv2d_3 (Conv2D)            (None, 50, 50, 32)        896       \n",
      "_________________________________________________________________\n",
      "max_pooling2d_3 (MaxPooling2 (None, 25, 25, 32)        0         \n",
      "_________________________________________________________________\n",
      "conv2d_4 (Conv2D)            (None, 25, 25, 64)        18496     \n",
      "_________________________________________________________________\n",
      "max_pooling2d_4 (MaxPooling2 (None, 13, 13, 64)        0         \n",
      "_________________________________________________________________\n",
      "flatten_2 (Flatten)          (None, 10816)             0         \n",
      "_________________________________________________________________\n",
      "dense_3 (Dense)              (None, 500)               5408500   \n",
      "_________________________________________________________________\n",
      "dense_4 (Dense)              (None, 2)                 1002      \n",
      "=================================================================\n",
      "Total params: 5,428,894.0\n",
      "Trainable params: 5,428,894.0\n",
      "Non-trainable params: 0.0\n",
      "_________________________________________________________________\n",
      "None\n"
     ]
    }
   ],
   "source": [
    "model = cnn_classifier()"
   ]
  },
  {
   "cell_type": "code",
   "execution_count": 24,
   "metadata": {},
   "outputs": [
    {
     "name": "stdout",
     "output_type": "stream",
     "text": [
      "Train data shape:  (2920, 50, 50, 3)\n",
      "Test data shape:  (1080, 50, 50, 3)\n"
     ]
    }
   ],
   "source": [
    "print (\"Train data shape: \", train_data.shape)\n",
    "print (\"Test data shape: \", test_data.shape)"
   ]
  },
  {
   "cell_type": "code",
   "execution_count": 25,
   "metadata": {},
   "outputs": [
    {
     "name": "stdout",
     "output_type": "stream",
     "text": [
      "Epoch 1/10\n",
      "2920/2920 [==============================] - 46s - loss: 0.7814 - acc: 0.5216    \n",
      "Epoch 2/10\n",
      "2920/2920 [==============================] - 46s - loss: 0.6532 - acc: 0.6158    \n",
      "Epoch 3/10\n",
      "2920/2920 [==============================] - 53s - loss: 0.5849 - acc: 0.6932    \n",
      "Epoch 4/10\n",
      "2920/2920 [==============================] - 54s - loss: 0.5233 - acc: 0.7442    \n",
      "Epoch 5/10\n",
      "2920/2920 [==============================] - 58s - loss: 0.4638 - acc: 0.7818    \n",
      "Epoch 6/10\n",
      "2920/2920 [==============================] - 61s - loss: 0.3925 - acc: 0.8130    \n",
      "Epoch 7/10\n",
      "2920/2920 [==============================] - 51s - loss: 0.3305 - acc: 0.8521    \n",
      "Epoch 8/10\n",
      "2920/2920 [==============================] - 42s - loss: 0.2602 - acc: 0.8860    \n",
      "Epoch 9/10\n",
      "2920/2920 [==============================] - 42s - loss: 0.2109 - acc: 0.9192    \n",
      "Epoch 10/10\n",
      "2920/2920 [==============================] - 43s - loss: 0.1634 - acc: 0.9411    \n"
     ]
    }
   ],
   "source": [
    "idx = np.random.permutation(train_data.shape[0])\n",
    "model.fit(train_data[idx], train_labels[idx], batch_size = 64, epochs = 10)\n",
    "predicted_test_labels = np.argmax(model.predict(test_data), axis=1)\n",
    "test_labels = np.argmax(test_labels, axis=1)"
   ]
  },
  {
   "cell_type": "code",
   "execution_count": 26,
   "metadata": {},
   "outputs": [
    {
     "name": "stdout",
     "output_type": "stream",
     "text": [
      "Actual test labels:\n",
      " [0 0 0 ... 1 1 0]\n",
      "Predicted test labels:\n",
      " [0 0 1 ... 1 1 0]\n"
     ]
    }
   ],
   "source": [
    "print (\"Actual test labels:\\n\", test_labels)\n",
    "print (\"Predicted test labels:\\n\", predicted_test_labels)"
   ]
  },
  {
   "cell_type": "code",
   "execution_count": 27,
   "metadata": {},
   "outputs": [
    {
     "name": "stdout",
     "output_type": "stream",
     "text": [
      "Accuracy score: 0.7453703703703703\n"
     ]
    }
   ],
   "source": [
    "print (\"Accuracy score:\", accuracy_score(test_labels, predicted_test_labels))"
   ]
  },
  {
   "cell_type": "code",
   "execution_count": null,
   "metadata": {},
   "outputs": [],
   "source": []
  }
 ],
 "metadata": {
  "kernelspec": {
   "display_name": "Python 3",
   "language": "python",
   "name": "python3"
  },
  "language_info": {
   "codemirror_mode": {
    "name": "ipython",
    "version": 3
   },
   "file_extension": ".py",
   "mimetype": "text/x-python",
   "name": "python",
   "nbconvert_exporter": "python",
   "pygments_lexer": "ipython3",
   "version": "3.6.8"
  }
 },
 "nbformat": 4,
 "nbformat_minor": 2
}
